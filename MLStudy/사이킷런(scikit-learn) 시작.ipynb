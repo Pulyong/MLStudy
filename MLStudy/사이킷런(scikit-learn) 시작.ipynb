{
 "cells": [
  {
   "cell_type": "markdown",
   "id": "9b81f7b6",
   "metadata": {},
   "source": [
    "# Scikit-learn 주요 모듈"
   ]
  },
  {
   "cell_type": "markdown",
   "id": "655e719d",
   "metadata": {},
   "source": [
    "| 모듈 | 설명 |\n",
    "|------|------|\n",
    "| `sklearn.datasets` | 내장된 예제 데이터 세트 |\n",
    "| `sklearn.preprocessing` | 다양한 데이터 전처리 기능 제공 (변환, 정규화, 스케일링 등) |\n",
    "| `sklearn.feature_selection` | 특징(feature)를 선택할 수 있는 기능 제공 | \n",
    "| `sklearn.feature_extraction` | 특징(feature) 추출에 사용 |\n",
    "| `sklearn.decomposition` | 차원 축소 관련 알고리즘 지원 (PCA, NMF, Truncated SVD 등)\n",
    "| `sklearn.model_selection` | 교차 검증을 위해 데이터를 학습/테스트용으로 분리, 최적 파라미터를 추출하는 API 제공 (GridSearch 등)\n",
    "| `sklearn.metrics` | 분류, 회귀, 클러스터링, Pairwise에 대한 다양한 성능 측정 방법 제공 (Accuracy, Precision, Recall, ROC-AUC, RMSE 등) |\n",
    "| `sklearn.pipeline` | 특징 처리 등의 변환과 ML 알고리즘 학습, 예측 등을 묶어서 실행할 수 있는 유틸리티 제공 |\n",
    "| `sklearn.linear_model` | 선형 회귀, 릿지(Ridge), 라쏘(Lasso), 로지스틱 회귀 등 회귀 관련 알고리즘과 SGD(Stochastic Gradient Descent) 알고리즘 제공 |\n",
    "| `sklearn.svm` | 서포트 벡터 머신 알고리즘 제공 |\n",
    "| `sklearn.neighbors` | 최근접 이웃 알고리즘 제공 (k-NN 등)\n",
    "| `sklearn.naive_bayes` | 나이브 베이즈 알고리즘 제공 (가우시안 NB, 다항 분포 NB 등) |\n",
    "| `sklearn.tree` | 의사 결정 트리 알고리즘 제공 |\n",
    "| `sklearn.ensemble` | 앙상블 알고리즘 제공 (Random Forest, AdaBoost, GradientBoost 등) |\n",
    "| `sklearn.cluster` | 비지도 클러스터링 알고리즘 제공 (k-Means, 계층형 클러스터링, DBSCAN 등)"
   ]
  },
  {
   "cell_type": "markdown",
   "id": "a1c9d467",
   "metadata": {},
   "source": [
    "## `estimator` API\n",
    "\n",
    "* 일관성: 모든 객체는 일관된 문서를 갖춘 제한된 메서드 집합에서 비롯된 공통 인터페이스 공유\n",
    "* 검사(inspection): 모든 지정된 파라미터 값은 공개 속성으로 노출\n",
    "* 제한된 객체 계층 구조\n",
    "  + 알고리즘만 파이썬 클래스에 의해 표현\n",
    "  + 데이터 세트는 표준 포맷(NumPy 배열, Pandas DataFrame, Scipy 희소 행렬)으로 표현\n",
    "  + 매개변수명은 표준 파이썬 문자열 사용\n",
    "* 구성: 많은 머신러닝 작업은 기본 알고리즘의 시퀀스로 나타낼 수 있으며, Scikit-Learn은 가능한 곳이라면 어디서든 이 방식을 사용\n",
    "* 합리적인 기본값: 모델이 사용자 지정 파라미터를 필요로 할 때 라이브러리가 적절한 기본값을 정의"
   ]
  },
  {
   "cell_type": "markdown",
   "id": "3ff44c74",
   "metadata": {},
   "source": [
    "### API 사용 방법\n",
    "\n",
    "1. Scikit-Learn으로부터 적절한 `estimator` 클래스를 임포트해서 모델의 클래스 선택\n",
    "2. 클래스를 원하는 값으로 인스턴스화해서 모델의 하이퍼파라미터 선택\n",
    "3. 데이터를 특징 배열과 대상 벡터로 배치\n",
    "4. 모델 인스턴스의 `fit()` 메서드를 호출해 모델을 데이터에 적합\n",
    "5. 모델을 새 데이터에 대해서 적용\n",
    "  + 지도 학습: 대체로 `predict()` 메서드를 사용해 알려지지 않은 데이터에 대한 레이블 예측\n",
    "  + 비지도 학습: 대체로 `transform()`이나 `predict()` 메서드를 사용해 데이터의 속성을 변환하거나 추론"
   ]
  },
  {
   "cell_type": "markdown",
   "id": "fe2808df",
   "metadata": {
    "ExecuteTime": {
     "end_time": "2022-02-04T16:31:21.528548Z",
     "start_time": "2022-02-04T16:31:21.480113Z"
    }
   },
   "source": [
    "### API 사용 예제"
   ]
  },
  {
   "cell_type": "code",
   "execution_count": 2,
   "id": "8edf2d12",
   "metadata": {
    "ExecuteTime": {
     "end_time": "2022-02-06T09:14:34.977855Z",
     "start_time": "2022-02-06T09:14:32.434040Z"
    }
   },
   "outputs": [],
   "source": [
    "import numpy as np\n",
    "import matplotlib.pyplot as plt\n",
    "plt.style.use(['seaborn-whitegrid'])"
   ]
  },
  {
   "cell_type": "code",
   "execution_count": 2,
   "id": "84e59cb7",
   "metadata": {
    "ExecuteTime": {
     "end_time": "2022-02-05T03:17:07.811227Z",
     "start_time": "2022-02-05T03:17:07.488443Z"
    }
   },
   "outputs": [
    {
     "data": {
      "text/plain": [
       "<matplotlib.collections.PathCollection at 0x194c54b7820>"
      ]
     },
     "execution_count": 2,
     "metadata": {},
     "output_type": "execute_result"
    },
    {
     "data": {
      "image/png": "[encoded data removed]",
      "text/plain": [
       "<Figure size 432x288 with 1 Axes>"
      ]
     },
     "metadata": {},
     "output_type": "display_data"
    }
   ],
   "source": [
    "x = 10 * np.random.rand(50)\n",
    "y = 2 * x + np.random.rand(50)\n",
    "plt.scatter(x,y)"
   ]
  },
  {
   "cell_type": "code",
   "execution_count": 1,
   "id": "8a22bbb3",
   "metadata": {
    "ExecuteTime": {
     "end_time": "2022-02-06T09:14:32.381177Z",
     "start_time": "2022-02-06T09:14:29.810956Z"
    }
   },
   "outputs": [],
   "source": [
    "# 1. Scikit-Learn으로부터 적절한 estimator 클래스를 임포트해서 모델의 클래스 선택\n",
    "from sklearn.linear_model import LinearRegression"
   ]
  },
  {
   "cell_type": "code",
   "execution_count": 4,
   "id": "213f30f0",
   "metadata": {
    "ExecuteTime": {
     "end_time": "2022-02-05T03:17:09.613481Z",
     "start_time": "2022-02-05T03:17:09.585536Z"
    }
   },
   "outputs": [
    {
     "data": {
      "text/plain": [
       "LinearRegression()"
      ]
     },
     "execution_count": 4,
     "metadata": {},
     "output_type": "execute_result"
    }
   ],
   "source": [
    "# 2. 클래스를 원하는 값으로 인스턴스화해서 모델의 하이퍼파라미터 선택\n",
    "model = LinearRegression()\n",
    "model"
   ]
  },
  {
   "cell_type": "markdown",
   "id": "bb3f0ced",
   "metadata": {},
   "source": [
    "fit_intercept=True, -> 상수면 True\n",
    "    normalize='deprecated', -> 정규화\n",
    "    copy_X=True, -> 입력데이터를 복사해서 사용할 것인가\n",
    "    n_jobs=None, -> 모델 돌릴때 병렬처리 할 것인가\n",
    "    positive=False,"
   ]
  },
  {
   "cell_type": "code",
   "execution_count": 5,
   "id": "3440b8fe",
   "metadata": {
    "ExecuteTime": {
     "end_time": "2022-02-05T03:17:09.629452Z",
     "start_time": "2022-02-05T03:17:09.616452Z"
    }
   },
   "outputs": [
    {
     "data": {
      "text/plain": [
       "array([1.1883319 , 5.33074578, 0.98328729, 7.34447822, 7.24716993,\n",
       "       3.14102749, 6.58877582, 3.2266524 , 3.31284507, 0.72880117,\n",
       "       4.97099724, 2.18723182, 7.59343904, 0.99806755, 8.44867112,\n",
       "       9.53173514, 4.58034176, 6.49777581, 8.42846522, 7.05645721,\n",
       "       4.09644258, 9.70316163, 2.29180116, 2.92840282, 1.90739554,\n",
       "       0.444018  , 5.61812635, 2.28469055, 7.98222486, 6.83066373,\n",
       "       9.07957842, 0.79520969, 8.87082285, 2.39757192, 3.43056843,\n",
       "       6.76483963, 2.08556801, 7.26499896, 5.07757761, 3.25283829,\n",
       "       0.88390167, 1.57095945, 4.23312155, 0.51534163, 2.91114453,\n",
       "       9.71829517, 1.30994124, 1.30594169, 6.85221291, 1.30164333])"
      ]
     },
     "execution_count": 5,
     "metadata": {},
     "output_type": "execute_result"
    }
   ],
   "source": [
    "# 3. 데이터를 특징 배열과 대상 벡터로 배치\n",
    "x"
   ]
  },
  {
   "cell_type": "code",
   "execution_count": 6,
   "id": "1fb4e6a7",
   "metadata": {
    "ExecuteTime": {
     "end_time": "2022-02-05T03:17:09.645375Z",
     "start_time": "2022-02-05T03:17:09.632411Z"
    }
   },
   "outputs": [
    {
     "data": {
      "text/plain": [
       "array([[1.1883319 ],\n",
       "       [5.33074578],\n",
       "       [0.98328729],\n",
       "       [7.34447822],\n",
       "       [7.24716993],\n",
       "       [3.14102749],\n",
       "       [6.58877582],\n",
       "       [3.2266524 ],\n",
       "       [3.31284507],\n",
       "       [0.72880117],\n",
       "       [4.97099724],\n",
       "       [2.18723182],\n",
       "       [7.59343904],\n",
       "       [0.99806755],\n",
       "       [8.44867112],\n",
       "       [9.53173514],\n",
       "       [4.58034176],\n",
       "       [6.49777581],\n",
       "       [8.42846522],\n",
       "       [7.05645721],\n",
       "       [4.09644258],\n",
       "       [9.70316163],\n",
       "       [2.29180116],\n",
       "       [2.92840282],\n",
       "       [1.90739554],\n",
       "       [0.444018  ],\n",
       "       [5.61812635],\n",
       "       [2.28469055],\n",
       "       [7.98222486],\n",
       "       [6.83066373],\n",
       "       [9.07957842],\n",
       "       [0.79520969],\n",
       "       [8.87082285],\n",
       "       [2.39757192],\n",
       "       [3.43056843],\n",
       "       [6.76483963],\n",
       "       [2.08556801],\n",
       "       [7.26499896],\n",
       "       [5.07757761],\n",
       "       [3.25283829],\n",
       "       [0.88390167],\n",
       "       [1.57095945],\n",
       "       [4.23312155],\n",
       "       [0.51534163],\n",
       "       [2.91114453],\n",
       "       [9.71829517],\n",
       "       [1.30994124],\n",
       "       [1.30594169],\n",
       "       [6.85221291],\n",
       "       [1.30164333]])"
      ]
     },
     "execution_count": 6,
     "metadata": {},
     "output_type": "execute_result"
    }
   ],
   "source": [
    "# 특징 배열\n",
    "X = x[:,np.newaxis]\n",
    "X"
   ]
  },
  {
   "cell_type": "code",
   "execution_count": 7,
   "id": "2f4e4c62",
   "metadata": {
    "ExecuteTime": {
     "end_time": "2022-02-05T03:17:09.677290Z",
     "start_time": "2022-02-05T03:17:09.648367Z"
    }
   },
   "outputs": [
    {
     "data": {
      "text/plain": [
       "LinearRegression()"
      ]
     },
     "execution_count": 7,
     "metadata": {},
     "output_type": "execute_result"
    }
   ],
   "source": [
    "# 4. 모델 인스턴스의 fit() 메서드를 호출해 모델을 데이터에 적합\n",
    "model.fit(X,y)"
   ]
  },
  {
   "cell_type": "code",
   "execution_count": 8,
   "id": "65738c2f",
   "metadata": {
    "ExecuteTime": {
     "end_time": "2022-02-05T03:17:09.693247Z",
     "start_time": "2022-02-05T03:17:09.679285Z"
    }
   },
   "outputs": [
    {
     "data": {
      "text/plain": [
       "array([1.98338686])"
      ]
     },
     "execution_count": 8,
     "metadata": {},
     "output_type": "execute_result"
    }
   ],
   "source": [
    "model.coef_"
   ]
  },
  {
   "cell_type": "code",
   "execution_count": 9,
   "id": "d840d106",
   "metadata": {
    "ExecuteTime": {
     "end_time": "2022-02-05T03:17:09.709204Z",
     "start_time": "2022-02-05T03:17:09.697237Z"
    }
   },
   "outputs": [
    {
     "data": {
      "text/plain": [
       "0.5812498756135138"
      ]
     },
     "execution_count": 9,
     "metadata": {},
     "output_type": "execute_result"
    }
   ],
   "source": [
    "model.intercept_"
   ]
  },
  {
   "cell_type": "code",
   "execution_count": 10,
   "id": "616138f1",
   "metadata": {
    "ExecuteTime": {
     "end_time": "2022-02-05T03:17:09.725162Z",
     "start_time": "2022-02-05T03:17:09.711200Z"
    }
   },
   "outputs": [],
   "source": [
    "# 모델을 새 데이터에 대해서 적용\n",
    "xfit = np.linspace(-1,11)\n",
    "Xfit = xfit[:,np.newaxis]\n",
    "yfit = model.predict(Xfit)"
   ]
  },
  {
   "cell_type": "code",
   "execution_count": 11,
   "id": "93c26e49",
   "metadata": {
    "ExecuteTime": {
     "end_time": "2022-02-05T03:17:09.868290Z",
     "start_time": "2022-02-05T03:17:09.727157Z"
    }
   },
   "outputs": [
    {
     "data": {
      "text/plain": [
       "[<matplotlib.lines.Line2D at 0x194c78ff520>]"
      ]
     },
     "execution_count": 11,
     "metadata": {},
     "output_type": "execute_result"
    },
    {
     "data": {
      "image/png": "[encoded data removed]",
      "text/plain": [
       "<Figure size 432x288 with 1 Axes>"
      ]
     },
     "metadata": {},
     "output_type": "display_data"
    }
   ],
   "source": [
    "plt.scatter(x,y)\n",
    "plt.plot(xfit,yfit,'--r')"
   ]
  },
  {
   "cell_type": "markdown",
   "id": "c030b531",
   "metadata": {},
   "source": [
    "## 예제 데이터 세트"
   ]
  },
  {
   "cell_type": "markdown",
   "id": "2429d605",
   "metadata": {},
   "source": [
    "### 분류 또는 회귀용 데이터 세트\n",
    "\n",
    "| API | 설명 |\n",
    "|-----|------|\n",
    "| `datasets.load_boston()` | 미국 보스턴의 집에 대한 특징과 가격 데이터 (회귀용) |\n",
    "| `datasets.load_breast_cancer()` | 위스콘신 유방암 특징들과 악성/음성 레이블 데이터 (분류용) |\n",
    "| `datasets.load_diabetes()` | 당뇨 데이터 (회귀용) |\n",
    "| `datasets.load_digits()` | 0에서 9까지 숫자 이미지 픽셀 데이터 (분류용) |\n",
    "| `datasets.load_iris()` | 붓꽃에 대한 특징을 가진 데이터 (분류용) |"
   ]
  },
  {
   "cell_type": "markdown",
   "id": "86e54e8b",
   "metadata": {},
   "source": [
    "### 온라인 데이터 세트\n",
    "\n",
    "* 데이터 크기가 커서 온라인에서 데이터를 다운로드 한 후에 불러오는 예제 데이터 세트\n",
    "\n",
    "| API | 설명 |\n",
    "|-----|------|\n",
    "| `fetch_california_housing()` | 캘리포니아 주택 가격 데이터 |\n",
    "| `fetch_covtype()` | 회귀 분석용 토지 조사 데이터 |\n",
    "| `fetch_20newsgroups()` | 뉴스 그룹 텍스트 데이터 |\n",
    "| `fetch_olivetti_faces()` | 얼굴 이미지 데이터 |\n",
    "| `fetch_lfw_people()` | 얼굴 이미지 데이터 |\n",
    "| `fetch_lfw_paris()` | 얼굴 이미지 데이터 |\n",
    "| `fetch_rcv1()` | 로이터 뉴스 말뭉치 데이터 |\n",
    "| `fetch_mldata()` | ML 웹사이트에서 다운로드 |"
   ]
  },
  {
   "cell_type": "markdown",
   "id": "449c4d8f",
   "metadata": {},
   "source": [
    "### 분류와 클러스터링을 위한 표본 데이터 생성\n",
    "\n",
    "| API | 설명 |\n",
    "|-----|------|\n",
    "| `datasets.make_classifications()` | 분류를 위한 데이터 세트 생성. 높은 상관도, 불필요한 속성 등의 노이즈를 고려한 데이터를 무작위로 생성 |\n",
    "| `datasets.make_blobs()` | 클러스터링을 위한 데이터 세트 생성. 군집 지정 개수에 따라 여러 가지 클러스터링을 위한 데이터 셋트를 무작위로 생성 |"
   ]
  },
  {
   "cell_type": "markdown",
   "id": "f61e45c2",
   "metadata": {
    "ExecuteTime": {
     "end_time": "2022-02-04T16:52:09.343062Z",
     "start_time": "2022-02-04T16:52:09.321121Z"
    }
   },
   "source": [
    "### 예제 데이터 세트 구조\n",
    "\n",
    "* 일반적으로 딕셔너리 형태로 구성\n",
    "* data: 특징 데이터 세트\n",
    "* target: 분류용은 레이블 값, 회귀용은 숫자 결과값 데이터\n",
    "* target_names: 개별 레이블의 이름 (분류용)\n",
    "* feature_names: 특징 이름\n",
    "* DESCR: 데이터 세트에 대한 설명과 각 특징 설명"
   ]
  },
  {
   "cell_type": "code",
   "execution_count": 12,
   "id": "eab75c7c",
   "metadata": {
    "ExecuteTime": {
     "end_time": "2022-02-05T03:17:10.009864Z",
     "start_time": "2022-02-05T03:17:09.870285Z"
    }
   },
   "outputs": [
    {
     "name": "stdout",
     "output_type": "stream",
     "text": [
      "dict_keys(['data', 'target', 'frame', 'DESCR', 'feature_names', 'data_filename', 'target_filename', 'data_module'])\n"
     ]
    }
   ],
   "source": [
    "from sklearn.datasets import load_diabetes\n",
    "\n",
    "diabetes = load_diabetes()\n",
    "print(diabetes.keys())"
   ]
  },
  {
   "cell_type": "code",
   "execution_count": 13,
   "id": "322e62a7",
   "metadata": {
    "ExecuteTime": {
     "end_time": "2022-02-05T03:17:10.025816Z",
     "start_time": "2022-02-05T03:17:10.011834Z"
    }
   },
   "outputs": [
    {
     "name": "stdout",
     "output_type": "stream",
     "text": [
      "[[ 0.03807591  0.05068012  0.06169621 ... -0.00259226  0.01990842\n",
      "  -0.01764613]\n",
      " [-0.00188202 -0.04464164 -0.05147406 ... -0.03949338 -0.06832974\n",
      "  -0.09220405]\n",
      " [ 0.08529891  0.05068012  0.04445121 ... -0.00259226  0.00286377\n",
      "  -0.02593034]\n",
      " ...\n",
      " [ 0.04170844  0.05068012 -0.01590626 ... -0.01107952 -0.04687948\n",
      "   0.01549073]\n",
      " [-0.04547248 -0.04464164  0.03906215 ...  0.02655962  0.04452837\n",
      "  -0.02593034]\n",
      " [-0.04547248 -0.04464164 -0.0730303  ... -0.03949338 -0.00421986\n",
      "   0.00306441]]\n"
     ]
    }
   ],
   "source": [
    "print(diabetes.data)"
   ]
  },
  {
   "cell_type": "code",
   "execution_count": 14,
   "id": "854ad7e8",
   "metadata": {
    "ExecuteTime": {
     "end_time": "2022-02-05T03:17:10.041754Z",
     "start_time": "2022-02-05T03:17:10.027791Z"
    }
   },
   "outputs": [
    {
     "name": "stdout",
     "output_type": "stream",
     "text": [
      "[151.  75. 141. 206. 135.  97. 138.  63. 110. 310. 101.  69. 179. 185.\n",
      " 118. 171. 166. 144.  97. 168.  68.  49.  68. 245. 184. 202. 137.  85.\n",
      " 131. 283. 129.  59. 341.  87.  65. 102. 265. 276. 252.  90. 100.  55.\n",
      "  61.  92. 259.  53. 190. 142.  75. 142. 155. 225.  59. 104. 182. 128.\n",
      "  52.  37. 170. 170.  61. 144.  52. 128.  71. 163. 150.  97. 160. 178.\n",
      "  48. 270. 202. 111.  85.  42. 170. 200. 252. 113. 143.  51.  52. 210.\n",
      "  65. 141.  55. 134.  42. 111.  98. 164.  48.  96.  90. 162. 150. 279.\n",
      "  92.  83. 128. 102. 302. 198.  95.  53. 134. 144. 232.  81. 104.  59.\n",
      " 246. 297. 258. 229. 275. 281. 179. 200. 200. 173. 180.  84. 121. 161.\n",
      "  99. 109. 115. 268. 274. 158. 107.  83. 103. 272.  85. 280. 336. 281.\n",
      " 118. 317. 235.  60. 174. 259. 178. 128.  96. 126. 288.  88. 292.  71.\n",
      " 197. 186.  25.  84.  96. 195.  53. 217. 172. 131. 214.  59.  70. 220.\n",
      " 268. 152.  47.  74. 295. 101. 151. 127. 237. 225.  81. 151. 107.  64.\n",
      " 138. 185. 265. 101. 137. 143. 141.  79. 292. 178.  91. 116.  86. 122.\n",
      "  72. 129. 142.  90. 158.  39. 196. 222. 277.  99. 196. 202. 155.  77.\n",
      " 191.  70.  73.  49.  65. 263. 248. 296. 214. 185.  78.  93. 252. 150.\n",
      "  77. 208.  77. 108. 160.  53. 220. 154. 259.  90. 246. 124.  67.  72.\n",
      " 257. 262. 275. 177.  71.  47. 187. 125.  78.  51. 258. 215. 303. 243.\n",
      "  91. 150. 310. 153. 346.  63.  89.  50.  39. 103. 308. 116. 145.  74.\n",
      "  45. 115. 264.  87. 202. 127. 182. 241.  66.  94. 283.  64. 102. 200.\n",
      " 265.  94. 230. 181. 156. 233.  60. 219.  80.  68. 332. 248.  84. 200.\n",
      "  55.  85.  89.  31. 129.  83. 275.  65. 198. 236. 253. 124.  44. 172.\n",
      " 114. 142. 109. 180. 144. 163. 147.  97. 220. 190. 109. 191. 122. 230.\n",
      " 242. 248. 249. 192. 131. 237.  78. 135. 244. 199. 270. 164.  72.  96.\n",
      " 306.  91. 214.  95. 216. 263. 178. 113. 200. 139. 139.  88. 148.  88.\n",
      " 243.  71.  77. 109. 272.  60.  54. 221.  90. 311. 281. 182. 321.  58.\n",
      " 262. 206. 233. 242. 123. 167.  63. 197.  71. 168. 140. 217. 121. 235.\n",
      " 245.  40.  52. 104. 132.  88.  69. 219.  72. 201. 110.  51. 277.  63.\n",
      " 118.  69. 273. 258.  43. 198. 242. 232. 175.  93. 168. 275. 293. 281.\n",
      "  72. 140. 189. 181. 209. 136. 261. 113. 131. 174. 257.  55.  84.  42.\n",
      " 146. 212. 233.  91. 111. 152. 120.  67. 310.  94. 183.  66. 173.  72.\n",
      "  49.  64.  48. 178. 104. 132. 220.  57.]\n"
     ]
    }
   ],
   "source": [
    "print(diabetes.target)"
   ]
  },
  {
   "cell_type": "code",
   "execution_count": 15,
   "id": "1902545d",
   "metadata": {
    "ExecuteTime": {
     "end_time": "2022-02-05T03:17:10.057710Z",
     "start_time": "2022-02-05T03:17:10.045743Z"
    }
   },
   "outputs": [
    {
     "name": "stdout",
     "output_type": "stream",
     "text": [
      ".. _diabetes_dataset:\n",
      "\n",
      "Diabetes dataset\n",
      "----------------\n",
      "\n",
      "Ten baseline variables, age, sex, body mass index, average blood\n",
      "pressure, and six blood serum measurements were obtained for each of n =\n",
      "442 diabetes patients, as well as the response of interest, a\n",
      "quantitative measure of disease progression one year after baseline.\n",
      "\n",
      "**Data Set Characteristics:**\n",
      "\n",
      "  :Number of Instances: 442\n",
      "\n",
      "  :Number of Attributes: First 10 columns are numeric predictive values\n",
      "\n",
      "  :Target: Column 11 is a quantitative measure of disease progression one year after baseline\n",
      "\n",
      "  :Attribute Information:\n",
      "      - age     age in years\n",
      "      - sex\n",
      "      - bmi     body mass index\n",
      "      - bp      average blood pressure\n",
      "      - s1      tc, total serum cholesterol\n",
      "      - s2      ldl, low-density lipoproteins\n",
      "      - s3      hdl, high-density lipoproteins\n",
      "      - s4      tch, total cholesterol / HDL\n",
      "      - s5      ltg, possibly log of serum triglycerides level\n",
      "      - s6      glu, blood sugar level\n",
      "\n",
      "Note: Each of these 10 feature variables have been mean centered and scaled by the standard deviation times `n_samples` (i.e. the sum of squares of each column totals 1).\n",
      "\n",
      "Source URL:\n",
      "https://www4.stat.ncsu.edu/~boos/var.select/diabetes.html\n",
      "\n",
      "For more information see:\n",
      "Bradley Efron, Trevor Hastie, Iain Johnstone and Robert Tibshirani (2004) \"Least Angle Regression,\" Annals of Statistics (with discussion), 407-499.\n",
      "(https://web.stanford.edu/~hastie/Papers/LARS/LeastAngle_2002.pdf)\n"
     ]
    }
   ],
   "source": [
    "print(diabetes.DESCR)"
   ]
  },
  {
   "cell_type": "code",
   "execution_count": 16,
   "id": "843a9c3b",
   "metadata": {
    "ExecuteTime": {
     "end_time": "2022-02-05T03:17:10.072671Z",
     "start_time": "2022-02-05T03:17:10.060703Z"
    }
   },
   "outputs": [
    {
     "name": "stdout",
     "output_type": "stream",
     "text": [
      "['age', 'sex', 'bmi', 'bp', 's1', 's2', 's3', 's4', 's5', 's6']\n"
     ]
    }
   ],
   "source": [
    "print(diabetes.feature_names)"
   ]
  },
  {
   "cell_type": "code",
   "execution_count": 17,
   "id": "085437c7",
   "metadata": {
    "ExecuteTime": {
     "end_time": "2022-02-05T03:17:10.087631Z",
     "start_time": "2022-02-05T03:17:10.074666Z"
    }
   },
   "outputs": [
    {
     "name": "stdout",
     "output_type": "stream",
     "text": [
      "diabetes_data.csv.gz\n",
      "diabetes_target.csv.gz\n"
     ]
    }
   ],
   "source": [
    "print(diabetes.data_filename)\n",
    "print(diabetes.target_filename)"
   ]
  },
  {
   "cell_type": "markdown",
   "id": "5bc46cbe",
   "metadata": {},
   "source": [
    "## `model_selection` 모듈\n",
    "\n",
    "* 학습용 데이터와 테스트 데이터로 분리\n",
    "* 교차 검증 분할 및 평가\n",
    "* Estimator의 하이퍼 파라미터 튜닝을 위한 다양한 함수와 클래스 제공"
   ]
  },
  {
   "cell_type": "markdown",
   "id": "2c695c20",
   "metadata": {},
   "source": [
    "### `train_test_split()`: 학습/테스트 데이터 세트 분리"
   ]
  },
  {
   "cell_type": "code",
   "execution_count": 18,
   "id": "c3416dc5",
   "metadata": {
    "ExecuteTime": {
     "end_time": "2022-02-05T03:17:10.135501Z",
     "start_time": "2022-02-05T03:17:10.089625Z"
    }
   },
   "outputs": [
    {
     "name": "stdout",
     "output_type": "stream",
     "text": [
      "학습 데이터 점수: 0.48668780947773516\n",
      "평가 데이터 점수: 0.5864738598772948\n"
     ]
    }
   ],
   "source": [
    "from sklearn.linear_model import LinearRegression\n",
    "from sklearn.model_selection import train_test_split\n",
    "from sklearn.datasets import load_diabetes\n",
    "\n",
    "diabetes = load_diabetes()\n",
    "X_train, X_test, y_train, y_test = train_test_split(diabetes.data, diabetes.target, test_size= 0.3) # feature와 target, train70 / test 30 Matrix는 대문자 vector는 소문자\n",
    "\n",
    "model = LinearRegression()\n",
    "model.fit(X_train,y_train)\n",
    "\n",
    "print('학습 데이터 점수: {}'.format(model.score(X_train,y_train)))\n",
    "print('평가 데이터 점수: {}'.format(model.score(X_test,y_test)))"
   ]
  },
  {
   "cell_type": "code",
   "execution_count": 19,
   "id": "418f4d43",
   "metadata": {
    "ExecuteTime": {
     "end_time": "2022-02-05T03:17:10.277123Z",
     "start_time": "2022-02-05T03:17:10.136500Z"
    }
   },
   "outputs": [
    {
     "data": {
      "image/png": "[encoded data removed]",
      "text/plain": [
       "<Figure size 576x288 with 1 Axes>"
      ]
     },
     "metadata": {},
     "output_type": "display_data"
    }
   ],
   "source": [
    "# predicted와 expected가 빨간선에 가까워야 값이 똑같은것 but 아니다\n",
    "predicted = model.predict(X_test)\n",
    "expected = y_test\n",
    "plt.figure(figsize=(8,4))\n",
    "plt.scatter(expected,predicted)\n",
    "plt.plot([30,350],[30,350],'--r')\n",
    "plt.tight_layout()"
   ]
  },
  {
   "cell_type": "markdown",
   "id": "bcf1d458",
   "metadata": {},
   "source": [
    "### `cross_val_score()`: 교차 검증"
   ]
  },
  {
   "cell_type": "code",
   "execution_count": 20,
   "id": "7eaa166b",
   "metadata": {
    "ExecuteTime": {
     "end_time": "2022-02-05T03:17:10.293081Z",
     "start_time": "2022-02-05T03:17:10.279120Z"
    }
   },
   "outputs": [
    {
     "name": "stdout",
     "output_type": "stream",
     "text": [
      "교차 검증 정확도: [0.42955643 0.52259828 0.4826784  0.42650827 0.55024923]\n",
      "교차 검증 정확도: 0.48231812211149394 +/- 0.04926619776563222\n"
     ]
    }
   ],
   "source": [
    "from sklearn.model_selection import cross_val_score, cross_validate\n",
    "\n",
    "scores = cross_val_score(model, diabetes.data, diabetes.target, cv = 5)\n",
    "\n",
    "print('교차 검증 정확도: {}'.format(scores))\n",
    "print('교차 검증 정확도: {} +/- {}'.format(np.mean(scores),np.std(scores)))"
   ]
  },
  {
   "cell_type": "markdown",
   "id": "0d32ac50",
   "metadata": {},
   "source": [
    "### `GridSearchCV`: 교차 검증과 최적 하이퍼 파라미터 찾기\n",
    "\n",
    "* 훈련 단계에서 학습한 파라미터에 영향을 받아서 최상의 파라미터를 찾는 일은 항상 어려운 문제\n",
    "* 다양한 모델의 훈련 과정을 자동화하고, 교차 검사를 사용해 최적 값을 제공하는 도구 필요\n",
    "* CV를 반복해서 최적의 하이퍼 파라미터를 찾는 것"
   ]
  },
  {
   "cell_type": "code",
   "execution_count": 21,
   "id": "1fba705b",
   "metadata": {
    "ExecuteTime": {
     "end_time": "2022-02-05T03:17:11.726911Z",
     "start_time": "2022-02-05T03:17:10.295076Z"
    }
   },
   "outputs": [
    {
     "name": "stdout",
     "output_type": "stream",
     "text": [
      "최적 점수: 0.4633240541517594\n",
      "최적 파라미터: {'alpha': 0.1}\n",
      "Ridge(alpha=0.1)\n"
     ]
    },
    {
     "data": {
      "text/html": [
       "<div>\n",
       "<style scoped>\n",
       "    .dataframe tbody tr th:only-of-type {\n",
       "        vertical-align: middle;\n",
       "    }\n",
       "\n",
       "    .dataframe tbody tr th {\n",
       "        vertical-align: top;\n",
       "    }\n",
       "\n",
       "    .dataframe thead th {\n",
       "        text-align: right;\n",
       "    }\n",
       "</style>\n",
       "<table border=\"1\" class=\"dataframe\">\n",
       "  <thead>\n",
       "    <tr style=\"text-align: right;\">\n",
       "      <th></th>\n",
       "      <th>mean_fit_time</th>\n",
       "      <th>std_fit_time</th>\n",
       "      <th>mean_score_time</th>\n",
       "      <th>std_score_time</th>\n",
       "      <th>param_alpha</th>\n",
       "      <th>params</th>\n",
       "      <th>split0_test_score</th>\n",
       "      <th>split1_test_score</th>\n",
       "      <th>split2_test_score</th>\n",
       "      <th>split3_test_score</th>\n",
       "      <th>split4_test_score</th>\n",
       "      <th>split5_test_score</th>\n",
       "      <th>split6_test_score</th>\n",
       "      <th>split7_test_score</th>\n",
       "      <th>split8_test_score</th>\n",
       "      <th>split9_test_score</th>\n",
       "      <th>mean_test_score</th>\n",
       "      <th>std_test_score</th>\n",
       "      <th>rank_test_score</th>\n",
       "    </tr>\n",
       "  </thead>\n",
       "  <tbody>\n",
       "    <tr>\n",
       "      <th>0</th>\n",
       "      <td>0.001586</td>\n",
       "      <td>3.132387e-03</td>\n",
       "      <td>0.000300</td>\n",
       "      <td>0.000458</td>\n",
       "      <td>0.001</td>\n",
       "      <td>{'alpha': 0.001}</td>\n",
       "      <td>0.554415</td>\n",
       "      <td>0.233686</td>\n",
       "      <td>0.356799</td>\n",
       "      <td>0.620259</td>\n",
       "      <td>0.267033</td>\n",
       "      <td>0.619397</td>\n",
       "      <td>0.419907</td>\n",
       "      <td>0.433019</td>\n",
       "      <td>0.433431</td>\n",
       "      <td>0.684984</td>\n",
       "      <td>0.462293</td>\n",
       "      <td>0.145848</td>\n",
       "      <td>3</td>\n",
       "    </tr>\n",
       "    <tr>\n",
       "      <th>1</th>\n",
       "      <td>0.000399</td>\n",
       "      <td>4.887531e-04</td>\n",
       "      <td>0.000598</td>\n",
       "      <td>0.000488</td>\n",
       "      <td>0.01</td>\n",
       "      <td>{'alpha': 0.01}</td>\n",
       "      <td>0.546297</td>\n",
       "      <td>0.244132</td>\n",
       "      <td>0.368901</td>\n",
       "      <td>0.613732</td>\n",
       "      <td>0.271717</td>\n",
       "      <td>0.623089</td>\n",
       "      <td>0.426074</td>\n",
       "      <td>0.424759</td>\n",
       "      <td>0.429484</td>\n",
       "      <td>0.680912</td>\n",
       "      <td>0.462910</td>\n",
       "      <td>0.141446</td>\n",
       "      <td>2</td>\n",
       "    </tr>\n",
       "    <tr>\n",
       "      <th>2</th>\n",
       "      <td>0.000897</td>\n",
       "      <td>2.991521e-04</td>\n",
       "      <td>0.000100</td>\n",
       "      <td>0.000299</td>\n",
       "      <td>0.1</td>\n",
       "      <td>{'alpha': 0.1}</td>\n",
       "      <td>0.526550</td>\n",
       "      <td>0.244987</td>\n",
       "      <td>0.383530</td>\n",
       "      <td>0.606594</td>\n",
       "      <td>0.286094</td>\n",
       "      <td>0.618033</td>\n",
       "      <td>0.431230</td>\n",
       "      <td>0.441788</td>\n",
       "      <td>0.431968</td>\n",
       "      <td>0.662466</td>\n",
       "      <td>0.463324</td>\n",
       "      <td>0.132681</td>\n",
       "      <td>1</td>\n",
       "    </tr>\n",
       "    <tr>\n",
       "      <th>3</th>\n",
       "      <td>0.000798</td>\n",
       "      <td>3.988387e-04</td>\n",
       "      <td>0.000199</td>\n",
       "      <td>0.000398</td>\n",
       "      <td>1</td>\n",
       "      <td>{'alpha': 1}</td>\n",
       "      <td>0.421593</td>\n",
       "      <td>0.168442</td>\n",
       "      <td>0.358004</td>\n",
       "      <td>0.512608</td>\n",
       "      <td>0.284928</td>\n",
       "      <td>0.514264</td>\n",
       "      <td>0.388246</td>\n",
       "      <td>0.484448</td>\n",
       "      <td>0.396502</td>\n",
       "      <td>0.525132</td>\n",
       "      <td>0.405417</td>\n",
       "      <td>0.108385</td>\n",
       "      <td>4</td>\n",
       "    </tr>\n",
       "    <tr>\n",
       "      <th>4</th>\n",
       "      <td>0.000798</td>\n",
       "      <td>3.988745e-04</td>\n",
       "      <td>0.000199</td>\n",
       "      <td>0.000399</td>\n",
       "      <td>10</td>\n",
       "      <td>{'alpha': 10}</td>\n",
       "      <td>0.159386</td>\n",
       "      <td>-0.081177</td>\n",
       "      <td>0.152190</td>\n",
       "      <td>0.165690</td>\n",
       "      <td>0.119349</td>\n",
       "      <td>0.186933</td>\n",
       "      <td>0.158147</td>\n",
       "      <td>0.203748</td>\n",
       "      <td>0.153627</td>\n",
       "      <td>0.189440</td>\n",
       "      <td>0.140733</td>\n",
       "      <td>0.077298</td>\n",
       "      <td>5</td>\n",
       "    </tr>\n",
       "    <tr>\n",
       "      <th>5</th>\n",
       "      <td>0.000698</td>\n",
       "      <td>4.569606e-04</td>\n",
       "      <td>0.000299</td>\n",
       "      <td>0.000457</td>\n",
       "      <td>100</td>\n",
       "      <td>{'alpha': 100}</td>\n",
       "      <td>0.012468</td>\n",
       "      <td>-0.234480</td>\n",
       "      <td>0.013522</td>\n",
       "      <td>-0.012820</td>\n",
       "      <td>0.004838</td>\n",
       "      <td>0.022647</td>\n",
       "      <td>0.022028</td>\n",
       "      <td>-0.009908</td>\n",
       "      <td>0.015589</td>\n",
       "      <td>0.026427</td>\n",
       "      <td>-0.013969</td>\n",
       "      <td>0.074561</td>\n",
       "      <td>6</td>\n",
       "    </tr>\n",
       "    <tr>\n",
       "      <th>6</th>\n",
       "      <td>0.000997</td>\n",
       "      <td>9.948085e-07</td>\n",
       "      <td>0.000299</td>\n",
       "      <td>0.000457</td>\n",
       "      <td>1000</td>\n",
       "      <td>{'alpha': 1000}</td>\n",
       "      <td>-0.009602</td>\n",
       "      <td>-0.258118</td>\n",
       "      <td>-0.007849</td>\n",
       "      <td>-0.038479</td>\n",
       "      <td>-0.012933</td>\n",
       "      <td>-0.000932</td>\n",
       "      <td>0.001768</td>\n",
       "      <td>-0.042679</td>\n",
       "      <td>-0.004652</td>\n",
       "      <td>0.002744</td>\n",
       "      <td>-0.037073</td>\n",
       "      <td>0.075191</td>\n",
       "      <td>7</td>\n",
       "    </tr>\n",
       "  </tbody>\n",
       "</table>\n",
       "</div>"
      ],
      "text/plain": [
       "   mean_fit_time  std_fit_time  mean_score_time  std_score_time param_alpha  \\\n",
       "0       0.001586  3.132387e-03         0.000300        0.000458       0.001   \n",
       "1       0.000399  4.887531e-04         0.000598        0.000488        0.01   \n",
       "2       0.000897  2.991521e-04         0.000100        0.000299         0.1   \n",
       "3       0.000798  3.988387e-04         0.000199        0.000398           1   \n",
       "4       0.000798  3.988745e-04         0.000199        0.000399          10   \n",
       "5       0.000698  4.569606e-04         0.000299        0.000457         100   \n",
       "6       0.000997  9.948085e-07         0.000299        0.000457        1000   \n",
       "\n",
       "             params  split0_test_score  split1_test_score  split2_test_score  \\\n",
       "0  {'alpha': 0.001}           0.554415           0.233686           0.356799   \n",
       "1   {'alpha': 0.01}           0.546297           0.244132           0.368901   \n",
       "2    {'alpha': 0.1}           0.526550           0.244987           0.383530   \n",
       "3      {'alpha': 1}           0.421593           0.168442           0.358004   \n",
       "4     {'alpha': 10}           0.159386          -0.081177           0.152190   \n",
       "5    {'alpha': 100}           0.012468          -0.234480           0.013522   \n",
       "6   {'alpha': 1000}          -0.009602          -0.258118          -0.007849   \n",
       "\n",
       "   split3_test_score  split4_test_score  split5_test_score  split6_test_score  \\\n",
       "0           0.620259           0.267033           0.619397           0.419907   \n",
       "1           0.613732           0.271717           0.623089           0.426074   \n",
       "2           0.606594           0.286094           0.618033           0.431230   \n",
       "3           0.512608           0.284928           0.514264           0.388246   \n",
       "4           0.165690           0.119349           0.186933           0.158147   \n",
       "5          -0.012820           0.004838           0.022647           0.022028   \n",
       "6          -0.038479          -0.012933          -0.000932           0.001768   \n",
       "\n",
       "   split7_test_score  split8_test_score  split9_test_score  mean_test_score  \\\n",
       "0           0.433019           0.433431           0.684984         0.462293   \n",
       "1           0.424759           0.429484           0.680912         0.462910   \n",
       "2           0.441788           0.431968           0.662466         0.463324   \n",
       "3           0.484448           0.396502           0.525132         0.405417   \n",
       "4           0.203748           0.153627           0.189440         0.140733   \n",
       "5          -0.009908           0.015589           0.026427        -0.013969   \n",
       "6          -0.042679          -0.004652           0.002744        -0.037073   \n",
       "\n",
       "   std_test_score  rank_test_score  \n",
       "0        0.145848                3  \n",
       "1        0.141446                2  \n",
       "2        0.132681                1  \n",
       "3        0.108385                4  \n",
       "4        0.077298                5  \n",
       "5        0.074561                6  \n",
       "6        0.075191                7  "
      ]
     },
     "execution_count": 21,
     "metadata": {},
     "output_type": "execute_result"
    }
   ],
   "source": [
    "from sklearn.model_selection import GridSearchCV\n",
    "from sklearn.linear_model import Ridge\n",
    "import pandas as pd\n",
    "\n",
    "alpha = [0.001,0.01,0.1,1,10,100,1000]\n",
    "param_grid = dict(alpha=alpha)\n",
    "\n",
    "gs = GridSearchCV(estimator=Ridge(), param_grid=param_grid, cv = 10)\n",
    "result = gs.fit(diabetes.data,diabetes.target)\n",
    "\n",
    "print('최적 점수: {}'.format(result.best_score_))\n",
    "print('최적 파라미터: {}'.format(result.best_params_))\n",
    "print(gs.best_estimator_)\n",
    "pd.DataFrame(result.cv_results_)"
   ]
  },
  {
   "cell_type": "markdown",
   "id": "edcdb805",
   "metadata": {},
   "source": [
    "* `multiprocessing`을 이용한 `GridSearchCV`"
   ]
  },
  {
   "cell_type": "code",
   "execution_count": 22,
   "id": "2c9da539",
   "metadata": {
    "ExecuteTime": {
     "end_time": "2022-02-05T03:17:15.894765Z",
     "start_time": "2022-02-05T03:17:11.727910Z"
    }
   },
   "outputs": [
    {
     "name": "stdout",
     "output_type": "stream",
     "text": [
      "최적 점수: 0.9800000000000001\n",
      "최적 파라미터: {'C': 2.4, 'penalty': 'l2'}\n",
      "LogisticRegression(C=2.4)\n"
     ]
    },
    {
     "name": "stderr",
     "output_type": "stream",
     "text": [
      "C:\\Users\\rla02\\miniconda3\\lib\\site-packages\\sklearn\\model_selection\\_validation.py:372: FitFailedWarning: \n",
      "60 fits failed out of a total of 120.\n",
      "The score on these train-test partitions for these parameters will be set to nan.\n",
      "If these failures are not expected, you can try to debug them by setting error_score='raise'.\n",
      "\n",
      "Below are more details about the failures:\n",
      "--------------------------------------------------------------------------------\n",
      "60 fits failed with the following error:\n",
      "Traceback (most recent call last):\n",
      "  File \"C:\\Users\\rla02\\miniconda3\\lib\\site-packages\\sklearn\\model_selection\\_validation.py\", line 680, in _fit_and_score\n",
      "    estimator.fit(X_train, y_train, **fit_params)\n",
      "  File \"C:\\Users\\rla02\\miniconda3\\lib\\site-packages\\sklearn\\linear_model\\_logistic.py\", line 1461, in fit\n",
      "    solver = _check_solver(self.solver, self.penalty, self.dual)\n",
      "  File \"C:\\Users\\rla02\\miniconda3\\lib\\site-packages\\sklearn\\linear_model\\_logistic.py\", line 447, in _check_solver\n",
      "    raise ValueError(\n",
      "ValueError: Solver lbfgs supports only 'l2' or 'none' penalties, got l1 penalty.\n",
      "\n",
      "  warnings.warn(some_fits_failed_message, FitFailedWarning)\n",
      "C:\\Users\\rla02\\miniconda3\\lib\\site-packages\\sklearn\\model_selection\\_search.py:969: UserWarning: One or more of the test scores are non-finite: [       nan 0.96666667        nan 0.97333333        nan 0.97333333\n",
      "        nan 0.97333333        nan 0.97333333        nan 0.98      ]\n",
      "  warnings.warn(\n",
      "C:\\Users\\rla02\\miniconda3\\lib\\site-packages\\sklearn\\linear_model\\_logistic.py:814: ConvergenceWarning: lbfgs failed to converge (status=1):\n",
      "STOP: TOTAL NO. of ITERATIONS REACHED LIMIT.\n",
      "\n",
      "Increase the number of iterations (max_iter) or scale the data as shown in:\n",
      "    https://scikit-learn.org/stable/modules/preprocessing.html\n",
      "Please also refer to the documentation for alternative solver options:\n",
      "    https://scikit-learn.org/stable/modules/linear_model.html#logistic-regression\n",
      "  n_iter_i = _check_optimize_result(\n"
     ]
    },
    {
     "data": {
      "text/html": [
       "<div>\n",
       "<style scoped>\n",
       "    .dataframe tbody tr th:only-of-type {\n",
       "        vertical-align: middle;\n",
       "    }\n",
       "\n",
       "    .dataframe tbody tr th {\n",
       "        vertical-align: top;\n",
       "    }\n",
       "\n",
       "    .dataframe thead th {\n",
       "        text-align: right;\n",
       "    }\n",
       "</style>\n",
       "<table border=\"1\" class=\"dataframe\">\n",
       "  <thead>\n",
       "    <tr style=\"text-align: right;\">\n",
       "      <th></th>\n",
       "      <th>mean_fit_time</th>\n",
       "      <th>std_fit_time</th>\n",
       "      <th>mean_score_time</th>\n",
       "      <th>std_score_time</th>\n",
       "      <th>param_C</th>\n",
       "      <th>param_penalty</th>\n",
       "      <th>params</th>\n",
       "      <th>split0_test_score</th>\n",
       "      <th>split1_test_score</th>\n",
       "      <th>split2_test_score</th>\n",
       "      <th>split3_test_score</th>\n",
       "      <th>split4_test_score</th>\n",
       "      <th>split5_test_score</th>\n",
       "      <th>split6_test_score</th>\n",
       "      <th>split7_test_score</th>\n",
       "      <th>split8_test_score</th>\n",
       "      <th>split9_test_score</th>\n",
       "      <th>mean_test_score</th>\n",
       "      <th>std_test_score</th>\n",
       "      <th>rank_test_score</th>\n",
       "    </tr>\n",
       "  </thead>\n",
       "  <tbody>\n",
       "    <tr>\n",
       "      <th>0</th>\n",
       "      <td>0.000399</td>\n",
       "      <td>0.000488</td>\n",
       "      <td>0.000000</td>\n",
       "      <td>0.000000</td>\n",
       "      <td>0.5</td>\n",
       "      <td>l1</td>\n",
       "      <td>{'C': 0.5, 'penalty': 'l1'}</td>\n",
       "      <td>NaN</td>\n",
       "      <td>NaN</td>\n",
       "      <td>NaN</td>\n",
       "      <td>NaN</td>\n",
       "      <td>NaN</td>\n",
       "      <td>NaN</td>\n",
       "      <td>NaN</td>\n",
       "      <td>NaN</td>\n",
       "      <td>NaN</td>\n",
       "      <td>NaN</td>\n",
       "      <td>NaN</td>\n",
       "      <td>NaN</td>\n",
       "      <td>7</td>\n",
       "    </tr>\n",
       "    <tr>\n",
       "      <th>1</th>\n",
       "      <td>0.055352</td>\n",
       "      <td>0.011487</td>\n",
       "      <td>0.000997</td>\n",
       "      <td>0.000631</td>\n",
       "      <td>0.5</td>\n",
       "      <td>l2</td>\n",
       "      <td>{'C': 0.5, 'penalty': 'l2'}</td>\n",
       "      <td>1.0</td>\n",
       "      <td>0.933333</td>\n",
       "      <td>1.0</td>\n",
       "      <td>0.933333</td>\n",
       "      <td>0.933333</td>\n",
       "      <td>0.933333</td>\n",
       "      <td>0.933333</td>\n",
       "      <td>1.0</td>\n",
       "      <td>1.0</td>\n",
       "      <td>1.0</td>\n",
       "      <td>0.966667</td>\n",
       "      <td>0.033333</td>\n",
       "      <td>6</td>\n",
       "    </tr>\n",
       "    <tr>\n",
       "      <th>2</th>\n",
       "      <td>0.000599</td>\n",
       "      <td>0.000662</td>\n",
       "      <td>0.000000</td>\n",
       "      <td>0.000000</td>\n",
       "      <td>1.0</td>\n",
       "      <td>l1</td>\n",
       "      <td>{'C': 1.0, 'penalty': 'l1'}</td>\n",
       "      <td>NaN</td>\n",
       "      <td>NaN</td>\n",
       "      <td>NaN</td>\n",
       "      <td>NaN</td>\n",
       "      <td>NaN</td>\n",
       "      <td>NaN</td>\n",
       "      <td>NaN</td>\n",
       "      <td>NaN</td>\n",
       "      <td>NaN</td>\n",
       "      <td>NaN</td>\n",
       "      <td>NaN</td>\n",
       "      <td>NaN</td>\n",
       "      <td>8</td>\n",
       "    </tr>\n",
       "    <tr>\n",
       "      <th>3</th>\n",
       "      <td>0.043184</td>\n",
       "      <td>0.011976</td>\n",
       "      <td>0.000499</td>\n",
       "      <td>0.000499</td>\n",
       "      <td>1.0</td>\n",
       "      <td>l2</td>\n",
       "      <td>{'C': 1.0, 'penalty': 'l2'}</td>\n",
       "      <td>1.0</td>\n",
       "      <td>0.933333</td>\n",
       "      <td>1.0</td>\n",
       "      <td>1.000000</td>\n",
       "      <td>0.933333</td>\n",
       "      <td>0.933333</td>\n",
       "      <td>0.933333</td>\n",
       "      <td>1.0</td>\n",
       "      <td>1.0</td>\n",
       "      <td>1.0</td>\n",
       "      <td>0.973333</td>\n",
       "      <td>0.032660</td>\n",
       "      <td>2</td>\n",
       "    </tr>\n",
       "    <tr>\n",
       "      <th>4</th>\n",
       "      <td>0.000200</td>\n",
       "      <td>0.000399</td>\n",
       "      <td>0.000000</td>\n",
       "      <td>0.000000</td>\n",
       "      <td>1.5</td>\n",
       "      <td>l1</td>\n",
       "      <td>{'C': 1.5, 'penalty': 'l1'}</td>\n",
       "      <td>NaN</td>\n",
       "      <td>NaN</td>\n",
       "      <td>NaN</td>\n",
       "      <td>NaN</td>\n",
       "      <td>NaN</td>\n",
       "      <td>NaN</td>\n",
       "      <td>NaN</td>\n",
       "      <td>NaN</td>\n",
       "      <td>NaN</td>\n",
       "      <td>NaN</td>\n",
       "      <td>NaN</td>\n",
       "      <td>NaN</td>\n",
       "      <td>9</td>\n",
       "    </tr>\n",
       "    <tr>\n",
       "      <th>5</th>\n",
       "      <td>0.096442</td>\n",
       "      <td>0.065388</td>\n",
       "      <td>0.000399</td>\n",
       "      <td>0.000489</td>\n",
       "      <td>1.5</td>\n",
       "      <td>l2</td>\n",
       "      <td>{'C': 1.5, 'penalty': 'l2'}</td>\n",
       "      <td>1.0</td>\n",
       "      <td>0.933333</td>\n",
       "      <td>1.0</td>\n",
       "      <td>1.000000</td>\n",
       "      <td>0.933333</td>\n",
       "      <td>0.933333</td>\n",
       "      <td>0.933333</td>\n",
       "      <td>1.0</td>\n",
       "      <td>1.0</td>\n",
       "      <td>1.0</td>\n",
       "      <td>0.973333</td>\n",
       "      <td>0.032660</td>\n",
       "      <td>2</td>\n",
       "    </tr>\n",
       "    <tr>\n",
       "      <th>6</th>\n",
       "      <td>0.000199</td>\n",
       "      <td>0.000399</td>\n",
       "      <td>0.000000</td>\n",
       "      <td>0.000000</td>\n",
       "      <td>1.8</td>\n",
       "      <td>l1</td>\n",
       "      <td>{'C': 1.8, 'penalty': 'l1'}</td>\n",
       "      <td>NaN</td>\n",
       "      <td>NaN</td>\n",
       "      <td>NaN</td>\n",
       "      <td>NaN</td>\n",
       "      <td>NaN</td>\n",
       "      <td>NaN</td>\n",
       "      <td>NaN</td>\n",
       "      <td>NaN</td>\n",
       "      <td>NaN</td>\n",
       "      <td>NaN</td>\n",
       "      <td>NaN</td>\n",
       "      <td>NaN</td>\n",
       "      <td>10</td>\n",
       "    </tr>\n",
       "    <tr>\n",
       "      <th>7</th>\n",
       "      <td>0.057746</td>\n",
       "      <td>0.020974</td>\n",
       "      <td>0.000898</td>\n",
       "      <td>0.000537</td>\n",
       "      <td>1.8</td>\n",
       "      <td>l2</td>\n",
       "      <td>{'C': 1.8, 'penalty': 'l2'}</td>\n",
       "      <td>1.0</td>\n",
       "      <td>0.933333</td>\n",
       "      <td>1.0</td>\n",
       "      <td>1.000000</td>\n",
       "      <td>0.933333</td>\n",
       "      <td>0.933333</td>\n",
       "      <td>0.933333</td>\n",
       "      <td>1.0</td>\n",
       "      <td>1.0</td>\n",
       "      <td>1.0</td>\n",
       "      <td>0.973333</td>\n",
       "      <td>0.032660</td>\n",
       "      <td>2</td>\n",
       "    </tr>\n",
       "    <tr>\n",
       "      <th>8</th>\n",
       "      <td>0.000100</td>\n",
       "      <td>0.000299</td>\n",
       "      <td>0.000000</td>\n",
       "      <td>0.000000</td>\n",
       "      <td>2.0</td>\n",
       "      <td>l1</td>\n",
       "      <td>{'C': 2.0, 'penalty': 'l1'}</td>\n",
       "      <td>NaN</td>\n",
       "      <td>NaN</td>\n",
       "      <td>NaN</td>\n",
       "      <td>NaN</td>\n",
       "      <td>NaN</td>\n",
       "      <td>NaN</td>\n",
       "      <td>NaN</td>\n",
       "      <td>NaN</td>\n",
       "      <td>NaN</td>\n",
       "      <td>NaN</td>\n",
       "      <td>NaN</td>\n",
       "      <td>NaN</td>\n",
       "      <td>11</td>\n",
       "    </tr>\n",
       "    <tr>\n",
       "      <th>9</th>\n",
       "      <td>0.043384</td>\n",
       "      <td>0.006452</td>\n",
       "      <td>0.000299</td>\n",
       "      <td>0.000457</td>\n",
       "      <td>2.0</td>\n",
       "      <td>l2</td>\n",
       "      <td>{'C': 2.0, 'penalty': 'l2'}</td>\n",
       "      <td>1.0</td>\n",
       "      <td>0.933333</td>\n",
       "      <td>1.0</td>\n",
       "      <td>1.000000</td>\n",
       "      <td>0.933333</td>\n",
       "      <td>0.933333</td>\n",
       "      <td>0.933333</td>\n",
       "      <td>1.0</td>\n",
       "      <td>1.0</td>\n",
       "      <td>1.0</td>\n",
       "      <td>0.973333</td>\n",
       "      <td>0.032660</td>\n",
       "      <td>2</td>\n",
       "    </tr>\n",
       "    <tr>\n",
       "      <th>10</th>\n",
       "      <td>0.000299</td>\n",
       "      <td>0.000457</td>\n",
       "      <td>0.000000</td>\n",
       "      <td>0.000000</td>\n",
       "      <td>2.4</td>\n",
       "      <td>l1</td>\n",
       "      <td>{'C': 2.4, 'penalty': 'l1'}</td>\n",
       "      <td>NaN</td>\n",
       "      <td>NaN</td>\n",
       "      <td>NaN</td>\n",
       "      <td>NaN</td>\n",
       "      <td>NaN</td>\n",
       "      <td>NaN</td>\n",
       "      <td>NaN</td>\n",
       "      <td>NaN</td>\n",
       "      <td>NaN</td>\n",
       "      <td>NaN</td>\n",
       "      <td>NaN</td>\n",
       "      <td>NaN</td>\n",
       "      <td>12</td>\n",
       "    </tr>\n",
       "    <tr>\n",
       "      <th>11</th>\n",
       "      <td>0.038696</td>\n",
       "      <td>0.004034</td>\n",
       "      <td>0.000399</td>\n",
       "      <td>0.000489</td>\n",
       "      <td>2.4</td>\n",
       "      <td>l2</td>\n",
       "      <td>{'C': 2.4, 'penalty': 'l2'}</td>\n",
       "      <td>1.0</td>\n",
       "      <td>0.933333</td>\n",
       "      <td>1.0</td>\n",
       "      <td>1.000000</td>\n",
       "      <td>0.933333</td>\n",
       "      <td>1.000000</td>\n",
       "      <td>0.933333</td>\n",
       "      <td>1.0</td>\n",
       "      <td>1.0</td>\n",
       "      <td>1.0</td>\n",
       "      <td>0.980000</td>\n",
       "      <td>0.030551</td>\n",
       "      <td>1</td>\n",
       "    </tr>\n",
       "  </tbody>\n",
       "</table>\n",
       "</div>"
      ],
      "text/plain": [
       "    mean_fit_time  std_fit_time  mean_score_time  std_score_time param_C  \\\n",
       "0        0.000399      0.000488         0.000000        0.000000     0.5   \n",
       "1        0.055352      0.011487         0.000997        0.000631     0.5   \n",
       "2        0.000599      0.000662         0.000000        0.000000     1.0   \n",
       "3        0.043184      0.011976         0.000499        0.000499     1.0   \n",
       "4        0.000200      0.000399         0.000000        0.000000     1.5   \n",
       "5        0.096442      0.065388         0.000399        0.000489     1.5   \n",
       "6        0.000199      0.000399         0.000000        0.000000     1.8   \n",
       "7        0.057746      0.020974         0.000898        0.000537     1.8   \n",
       "8        0.000100      0.000299         0.000000        0.000000     2.0   \n",
       "9        0.043384      0.006452         0.000299        0.000457     2.0   \n",
       "10       0.000299      0.000457         0.000000        0.000000     2.4   \n",
       "11       0.038696      0.004034         0.000399        0.000489     2.4   \n",
       "\n",
       "   param_penalty                       params  split0_test_score  \\\n",
       "0             l1  {'C': 0.5, 'penalty': 'l1'}                NaN   \n",
       "1             l2  {'C': 0.5, 'penalty': 'l2'}                1.0   \n",
       "2             l1  {'C': 1.0, 'penalty': 'l1'}                NaN   \n",
       "3             l2  {'C': 1.0, 'penalty': 'l2'}                1.0   \n",
       "4             l1  {'C': 1.5, 'penalty': 'l1'}                NaN   \n",
       "5             l2  {'C': 1.5, 'penalty': 'l2'}                1.0   \n",
       "6             l1  {'C': 1.8, 'penalty': 'l1'}                NaN   \n",
       "7             l2  {'C': 1.8, 'penalty': 'l2'}                1.0   \n",
       "8             l1  {'C': 2.0, 'penalty': 'l1'}                NaN   \n",
       "9             l2  {'C': 2.0, 'penalty': 'l2'}                1.0   \n",
       "10            l1  {'C': 2.4, 'penalty': 'l1'}                NaN   \n",
       "11            l2  {'C': 2.4, 'penalty': 'l2'}                1.0   \n",
       "\n",
       "    split1_test_score  split2_test_score  split3_test_score  \\\n",
       "0                 NaN                NaN                NaN   \n",
       "1            0.933333                1.0           0.933333   \n",
       "2                 NaN                NaN                NaN   \n",
       "3            0.933333                1.0           1.000000   \n",
       "4                 NaN                NaN                NaN   \n",
       "5            0.933333                1.0           1.000000   \n",
       "6                 NaN                NaN                NaN   \n",
       "7            0.933333                1.0           1.000000   \n",
       "8                 NaN                NaN                NaN   \n",
       "9            0.933333                1.0           1.000000   \n",
       "10                NaN                NaN                NaN   \n",
       "11           0.933333                1.0           1.000000   \n",
       "\n",
       "    split4_test_score  split5_test_score  split6_test_score  \\\n",
       "0                 NaN                NaN                NaN   \n",
       "1            0.933333           0.933333           0.933333   \n",
       "2                 NaN                NaN                NaN   \n",
       "3            0.933333           0.933333           0.933333   \n",
       "4                 NaN                NaN                NaN   \n",
       "5            0.933333           0.933333           0.933333   \n",
       "6                 NaN                NaN                NaN   \n",
       "7            0.933333           0.933333           0.933333   \n",
       "8                 NaN                NaN                NaN   \n",
       "9            0.933333           0.933333           0.933333   \n",
       "10                NaN                NaN                NaN   \n",
       "11           0.933333           1.000000           0.933333   \n",
       "\n",
       "    split7_test_score  split8_test_score  split9_test_score  mean_test_score  \\\n",
       "0                 NaN                NaN                NaN              NaN   \n",
       "1                 1.0                1.0                1.0         0.966667   \n",
       "2                 NaN                NaN                NaN              NaN   \n",
       "3                 1.0                1.0                1.0         0.973333   \n",
       "4                 NaN                NaN                NaN              NaN   \n",
       "5                 1.0                1.0                1.0         0.973333   \n",
       "6                 NaN                NaN                NaN              NaN   \n",
       "7                 1.0                1.0                1.0         0.973333   \n",
       "8                 NaN                NaN                NaN              NaN   \n",
       "9                 1.0                1.0                1.0         0.973333   \n",
       "10                NaN                NaN                NaN              NaN   \n",
       "11                1.0                1.0                1.0         0.980000   \n",
       "\n",
       "    std_test_score  rank_test_score  \n",
       "0              NaN                7  \n",
       "1         0.033333                6  \n",
       "2              NaN                8  \n",
       "3         0.032660                2  \n",
       "4              NaN                9  \n",
       "5         0.032660                2  \n",
       "6              NaN               10  \n",
       "7         0.032660                2  \n",
       "8              NaN               11  \n",
       "9         0.032660                2  \n",
       "10             NaN               12  \n",
       "11        0.030551                1  "
      ]
     },
     "execution_count": 22,
     "metadata": {},
     "output_type": "execute_result"
    }
   ],
   "source": [
    "import multiprocessing # 병렬처리를 위함\n",
    "from sklearn.datasets import load_iris\n",
    "from sklearn.linear_model import LogisticRegression\n",
    "\n",
    "iris = load_iris()\n",
    "\n",
    "param_grid = [\n",
    "    {\n",
    "        'penalty' : ['l1','l2'],\n",
    "        'C' : [0.5,1.0,1.5,1.8,2.0,2.4]\n",
    "    }\n",
    "]\n",
    "\n",
    "gs = GridSearchCV(estimator=LogisticRegression(), param_grid=param_grid, scoring='accuracy',cv=10,n_jobs=multiprocessing.cpu_count())\n",
    "result = gs.fit(iris.data,iris.target)\n",
    "\n",
    "print('최적 점수: {}'.format(result.best_score_))\n",
    "print('최적 파라미터: {}'.format(result.best_params_))\n",
    "print(gs.best_estimator_)\n",
    "pd.DataFrame(result.cv_results_)"
   ]
  },
  {
   "cell_type": "markdown",
   "id": "22d300a9",
   "metadata": {},
   "source": [
    "## `preprocessing` 데이터 전처리 모듈\n",
    "\n",
    "* 데이터의 특징 스케일링(feature scaling)을 위한 방법으로 표준화(Standardization)와 정규화(Normalization) 사용\n",
    "\n",
    "+ 표준화 방법\n",
    "\n",
    "\\begin{equation}\n",
    "x_i^{'} = \\frac{x_i-mean(x)}{stdev(x)}\n",
    "\\end{equation}\n",
    "\n",
    "+ 정규화 방법\n",
    "\n",
    "\\begin{equation}\n",
    "x_i^{'} = \\frac{x_i-min(x)}{max(x)-min(x)}\n",
    "\\end{equation}\n",
    "\n",
    "+ scikit-learn에서는 개별 벡터 크기를 맞추는 형태로 정규화"
   ]
  },
  {
   "cell_type": "markdown",
   "id": "c33d96b0",
   "metadata": {},
   "source": [
    "### `StandardScaler`: 표준화 클래스"
   ]
  },
  {
   "cell_type": "code",
   "execution_count": 24,
   "id": "413ad235",
   "metadata": {
    "ExecuteTime": {
     "end_time": "2022-02-05T03:18:43.347811Z",
     "start_time": "2022-02-05T03:18:43.322906Z"
    }
   },
   "outputs": [
    {
     "data": {
      "text/html": [
       "<div>\n",
       "<style scoped>\n",
       "    .dataframe tbody tr th:only-of-type {\n",
       "        vertical-align: middle;\n",
       "    }\n",
       "\n",
       "    .dataframe tbody tr th {\n",
       "        vertical-align: top;\n",
       "    }\n",
       "\n",
       "    .dataframe thead th {\n",
       "        text-align: right;\n",
       "    }\n",
       "</style>\n",
       "<table border=\"1\" class=\"dataframe\">\n",
       "  <thead>\n",
       "    <tr style=\"text-align: right;\">\n",
       "      <th></th>\n",
       "      <th>sepal length (cm)</th>\n",
       "      <th>sepal width (cm)</th>\n",
       "      <th>petal length (cm)</th>\n",
       "      <th>petal width (cm)</th>\n",
       "    </tr>\n",
       "  </thead>\n",
       "  <tbody>\n",
       "    <tr>\n",
       "      <th>count</th>\n",
       "      <td>150.000000</td>\n",
       "      <td>150.000000</td>\n",
       "      <td>150.000000</td>\n",
       "      <td>150.000000</td>\n",
       "    </tr>\n",
       "    <tr>\n",
       "      <th>mean</th>\n",
       "      <td>5.843333</td>\n",
       "      <td>3.057333</td>\n",
       "      <td>3.758000</td>\n",
       "      <td>1.199333</td>\n",
       "    </tr>\n",
       "    <tr>\n",
       "      <th>std</th>\n",
       "      <td>0.828066</td>\n",
       "      <td>0.435866</td>\n",
       "      <td>1.765298</td>\n",
       "      <td>0.762238</td>\n",
       "    </tr>\n",
       "    <tr>\n",
       "      <th>min</th>\n",
       "      <td>4.300000</td>\n",
       "      <td>2.000000</td>\n",
       "      <td>1.000000</td>\n",
       "      <td>0.100000</td>\n",
       "    </tr>\n",
       "    <tr>\n",
       "      <th>25%</th>\n",
       "      <td>5.100000</td>\n",
       "      <td>2.800000</td>\n",
       "      <td>1.600000</td>\n",
       "      <td>0.300000</td>\n",
       "    </tr>\n",
       "    <tr>\n",
       "      <th>50%</th>\n",
       "      <td>5.800000</td>\n",
       "      <td>3.000000</td>\n",
       "      <td>4.350000</td>\n",
       "      <td>1.300000</td>\n",
       "    </tr>\n",
       "    <tr>\n",
       "      <th>75%</th>\n",
       "      <td>6.400000</td>\n",
       "      <td>3.300000</td>\n",
       "      <td>5.100000</td>\n",
       "      <td>1.800000</td>\n",
       "    </tr>\n",
       "    <tr>\n",
       "      <th>max</th>\n",
       "      <td>7.900000</td>\n",
       "      <td>4.400000</td>\n",
       "      <td>6.900000</td>\n",
       "      <td>2.500000</td>\n",
       "    </tr>\n",
       "  </tbody>\n",
       "</table>\n",
       "</div>"
      ],
      "text/plain": [
       "       sepal length (cm)  sepal width (cm)  petal length (cm)  \\\n",
       "count         150.000000        150.000000         150.000000   \n",
       "mean            5.843333          3.057333           3.758000   \n",
       "std             0.828066          0.435866           1.765298   \n",
       "min             4.300000          2.000000           1.000000   \n",
       "25%             5.100000          2.800000           1.600000   \n",
       "50%             5.800000          3.000000           4.350000   \n",
       "75%             6.400000          3.300000           5.100000   \n",
       "max             7.900000          4.400000           6.900000   \n",
       "\n",
       "       petal width (cm)  \n",
       "count        150.000000  \n",
       "mean           1.199333  \n",
       "std            0.762238  \n",
       "min            0.100000  \n",
       "25%            0.300000  \n",
       "50%            1.300000  \n",
       "75%            1.800000  \n",
       "max            2.500000  "
      ]
     },
     "execution_count": 24,
     "metadata": {},
     "output_type": "execute_result"
    }
   ],
   "source": [
    "iris = load_iris()\n",
    "iris_df = pd.DataFrame(data=iris.data,columns=iris.feature_names)\n",
    "iris_df.describe()"
   ]
  },
  {
   "cell_type": "code",
   "execution_count": 26,
   "id": "7602fda3",
   "metadata": {
    "ExecuteTime": {
     "end_time": "2022-02-05T03:20:55.475510Z",
     "start_time": "2022-02-05T03:20:55.452570Z"
    }
   },
   "outputs": [
    {
     "data": {
      "text/html": [
       "<div>\n",
       "<style scoped>\n",
       "    .dataframe tbody tr th:only-of-type {\n",
       "        vertical-align: middle;\n",
       "    }\n",
       "\n",
       "    .dataframe tbody tr th {\n",
       "        vertical-align: top;\n",
       "    }\n",
       "\n",
       "    .dataframe thead th {\n",
       "        text-align: right;\n",
       "    }\n",
       "</style>\n",
       "<table border=\"1\" class=\"dataframe\">\n",
       "  <thead>\n",
       "    <tr style=\"text-align: right;\">\n",
       "      <th></th>\n",
       "      <th>sepal length (cm)</th>\n",
       "      <th>sepal width (cm)</th>\n",
       "      <th>petal length (cm)</th>\n",
       "      <th>petal width (cm)</th>\n",
       "    </tr>\n",
       "  </thead>\n",
       "  <tbody>\n",
       "    <tr>\n",
       "      <th>count</th>\n",
       "      <td>1.500000e+02</td>\n",
       "      <td>1.500000e+02</td>\n",
       "      <td>1.500000e+02</td>\n",
       "      <td>1.500000e+02</td>\n",
       "    </tr>\n",
       "    <tr>\n",
       "      <th>mean</th>\n",
       "      <td>-1.468455e-15</td>\n",
       "      <td>-1.823726e-15</td>\n",
       "      <td>-1.610564e-15</td>\n",
       "      <td>-9.473903e-16</td>\n",
       "    </tr>\n",
       "    <tr>\n",
       "      <th>std</th>\n",
       "      <td>1.003350e+00</td>\n",
       "      <td>1.003350e+00</td>\n",
       "      <td>1.003350e+00</td>\n",
       "      <td>1.003350e+00</td>\n",
       "    </tr>\n",
       "    <tr>\n",
       "      <th>min</th>\n",
       "      <td>-1.870024e+00</td>\n",
       "      <td>-2.433947e+00</td>\n",
       "      <td>-1.567576e+00</td>\n",
       "      <td>-1.447076e+00</td>\n",
       "    </tr>\n",
       "    <tr>\n",
       "      <th>25%</th>\n",
       "      <td>-9.006812e-01</td>\n",
       "      <td>-5.923730e-01</td>\n",
       "      <td>-1.226552e+00</td>\n",
       "      <td>-1.183812e+00</td>\n",
       "    </tr>\n",
       "    <tr>\n",
       "      <th>50%</th>\n",
       "      <td>-5.250608e-02</td>\n",
       "      <td>-1.319795e-01</td>\n",
       "      <td>3.364776e-01</td>\n",
       "      <td>1.325097e-01</td>\n",
       "    </tr>\n",
       "    <tr>\n",
       "      <th>75%</th>\n",
       "      <td>6.745011e-01</td>\n",
       "      <td>5.586108e-01</td>\n",
       "      <td>7.627583e-01</td>\n",
       "      <td>7.906707e-01</td>\n",
       "    </tr>\n",
       "    <tr>\n",
       "      <th>max</th>\n",
       "      <td>2.492019e+00</td>\n",
       "      <td>3.090775e+00</td>\n",
       "      <td>1.785832e+00</td>\n",
       "      <td>1.712096e+00</td>\n",
       "    </tr>\n",
       "  </tbody>\n",
       "</table>\n",
       "</div>"
      ],
      "text/plain": [
       "       sepal length (cm)  sepal width (cm)  petal length (cm)  \\\n",
       "count       1.500000e+02      1.500000e+02       1.500000e+02   \n",
       "mean       -1.468455e-15     -1.823726e-15      -1.610564e-15   \n",
       "std         1.003350e+00      1.003350e+00       1.003350e+00   \n",
       "min        -1.870024e+00     -2.433947e+00      -1.567576e+00   \n",
       "25%        -9.006812e-01     -5.923730e-01      -1.226552e+00   \n",
       "50%        -5.250608e-02     -1.319795e-01       3.364776e-01   \n",
       "75%         6.745011e-01      5.586108e-01       7.627583e-01   \n",
       "max         2.492019e+00      3.090775e+00       1.785832e+00   \n",
       "\n",
       "       petal width (cm)  \n",
       "count      1.500000e+02  \n",
       "mean      -9.473903e-16  \n",
       "std        1.003350e+00  \n",
       "min       -1.447076e+00  \n",
       "25%       -1.183812e+00  \n",
       "50%        1.325097e-01  \n",
       "75%        7.906707e-01  \n",
       "max        1.712096e+00  "
      ]
     },
     "execution_count": 26,
     "metadata": {},
     "output_type": "execute_result"
    }
   ],
   "source": [
    "from sklearn.preprocessing import StandardScaler\n",
    "\n",
    "scaler = StandardScaler()\n",
    "iris_scaled = scaler.fit_transform(iris_df) # fit으로 표준화에 필요한 정보를 가져옴 # transform을 통해 scaling return은 numpy값\n",
    "iris_df_scaled = pd.DataFrame(data=iris_scaled,columns=iris.feature_names)\n",
    "iris_df_scaled.describe()"
   ]
  },
  {
   "cell_type": "code",
   "execution_count": 27,
   "id": "13e3a80a",
   "metadata": {
    "ExecuteTime": {
     "end_time": "2022-02-05T03:23:41.144972Z",
     "start_time": "2022-02-05T03:23:41.110039Z"
    }
   },
   "outputs": [
    {
     "name": "stdout",
     "output_type": "stream",
     "text": [
      "훈련 데이터 점수: 0.9809523809523809\n",
      "평가 데이터 점수: 0.8888888888888888\n"
     ]
    }
   ],
   "source": [
    "X_train, X_test, y_train,y_test = train_test_split(iris_df_scaled, iris.target, test_size= 0.3)\n",
    "\n",
    "model = LogisticRegression()\n",
    "model.fit(X_train,y_train)\n",
    "\n",
    "print('훈련 데이터 점수: {}'.format(model.score(X_train,y_train)))\n",
    "print('평가 데이터 점수: {}'.format(model.score(X_test,y_test)))"
   ]
  },
  {
   "cell_type": "markdown",
   "id": "d878e812",
   "metadata": {},
   "source": [
    "### `MinMaxScaler`: 정규화 클래스"
   ]
  },
  {
   "cell_type": "code",
   "execution_count": 28,
   "id": "74995035",
   "metadata": {
    "ExecuteTime": {
     "end_time": "2022-02-05T03:24:42.587930Z",
     "start_time": "2022-02-05T03:24:42.556017Z"
    }
   },
   "outputs": [
    {
     "data": {
      "text/html": [
       "<div>\n",
       "<style scoped>\n",
       "    .dataframe tbody tr th:only-of-type {\n",
       "        vertical-align: middle;\n",
       "    }\n",
       "\n",
       "    .dataframe tbody tr th {\n",
       "        vertical-align: top;\n",
       "    }\n",
       "\n",
       "    .dataframe thead th {\n",
       "        text-align: right;\n",
       "    }\n",
       "</style>\n",
       "<table border=\"1\" class=\"dataframe\">\n",
       "  <thead>\n",
       "    <tr style=\"text-align: right;\">\n",
       "      <th></th>\n",
       "      <th>sepal length (cm)</th>\n",
       "      <th>sepal width (cm)</th>\n",
       "      <th>petal length (cm)</th>\n",
       "      <th>petal width (cm)</th>\n",
       "    </tr>\n",
       "  </thead>\n",
       "  <tbody>\n",
       "    <tr>\n",
       "      <th>count</th>\n",
       "      <td>150.000000</td>\n",
       "      <td>150.000000</td>\n",
       "      <td>150.000000</td>\n",
       "      <td>150.000000</td>\n",
       "    </tr>\n",
       "    <tr>\n",
       "      <th>mean</th>\n",
       "      <td>0.428704</td>\n",
       "      <td>0.440556</td>\n",
       "      <td>0.467458</td>\n",
       "      <td>0.458056</td>\n",
       "    </tr>\n",
       "    <tr>\n",
       "      <th>std</th>\n",
       "      <td>0.230018</td>\n",
       "      <td>0.181611</td>\n",
       "      <td>0.299203</td>\n",
       "      <td>0.317599</td>\n",
       "    </tr>\n",
       "    <tr>\n",
       "      <th>min</th>\n",
       "      <td>0.000000</td>\n",
       "      <td>0.000000</td>\n",
       "      <td>0.000000</td>\n",
       "      <td>0.000000</td>\n",
       "    </tr>\n",
       "    <tr>\n",
       "      <th>25%</th>\n",
       "      <td>0.222222</td>\n",
       "      <td>0.333333</td>\n",
       "      <td>0.101695</td>\n",
       "      <td>0.083333</td>\n",
       "    </tr>\n",
       "    <tr>\n",
       "      <th>50%</th>\n",
       "      <td>0.416667</td>\n",
       "      <td>0.416667</td>\n",
       "      <td>0.567797</td>\n",
       "      <td>0.500000</td>\n",
       "    </tr>\n",
       "    <tr>\n",
       "      <th>75%</th>\n",
       "      <td>0.583333</td>\n",
       "      <td>0.541667</td>\n",
       "      <td>0.694915</td>\n",
       "      <td>0.708333</td>\n",
       "    </tr>\n",
       "    <tr>\n",
       "      <th>max</th>\n",
       "      <td>1.000000</td>\n",
       "      <td>1.000000</td>\n",
       "      <td>1.000000</td>\n",
       "      <td>1.000000</td>\n",
       "    </tr>\n",
       "  </tbody>\n",
       "</table>\n",
       "</div>"
      ],
      "text/plain": [
       "       sepal length (cm)  sepal width (cm)  petal length (cm)  \\\n",
       "count         150.000000        150.000000         150.000000   \n",
       "mean            0.428704          0.440556           0.467458   \n",
       "std             0.230018          0.181611           0.299203   \n",
       "min             0.000000          0.000000           0.000000   \n",
       "25%             0.222222          0.333333           0.101695   \n",
       "50%             0.416667          0.416667           0.567797   \n",
       "75%             0.583333          0.541667           0.694915   \n",
       "max             1.000000          1.000000           1.000000   \n",
       "\n",
       "       petal width (cm)  \n",
       "count        150.000000  \n",
       "mean           0.458056  \n",
       "std            0.317599  \n",
       "min            0.000000  \n",
       "25%            0.083333  \n",
       "50%            0.500000  \n",
       "75%            0.708333  \n",
       "max            1.000000  "
      ]
     },
     "execution_count": 28,
     "metadata": {},
     "output_type": "execute_result"
    }
   ],
   "source": [
    "from sklearn.preprocessing import MinMaxScaler\n",
    "\n",
    "scaler = MinMaxScaler()\n",
    "iris_scaled = scaler.fit_transform(iris_df)\n",
    "iris_df_scaled = pd.DataFrame(data=iris_scaled,columns=iris.feature_names)\n",
    "iris_df_scaled.describe()"
   ]
  },
  {
   "cell_type": "code",
   "execution_count": 29,
   "id": "10878e8a",
   "metadata": {
    "ExecuteTime": {
     "end_time": "2022-02-05T03:25:44.571327Z",
     "start_time": "2022-02-05T03:25:44.548389Z"
    }
   },
   "outputs": [
    {
     "name": "stdout",
     "output_type": "stream",
     "text": [
      "훈련 데이터 점수: 0.9333333333333333\n",
      "평가 데이터 점수: 0.8666666666666667\n"
     ]
    }
   ],
   "source": [
    "X_train, X_test, y_train,y_test = train_test_split(iris_df_scaled, iris.target, test_size= 0.3)\n",
    "\n",
    "model = LogisticRegression()\n",
    "model.fit(X_train,y_train)\n",
    "\n",
    "print('훈련 데이터 점수: {}'.format(model.score(X_train,y_train)))\n",
    "print('평가 데이터 점수: {}'.format(model.score(X_test,y_test)))"
   ]
  },
  {
   "cell_type": "markdown",
   "id": "6bb7a92b",
   "metadata": {},
   "source": [
    "## 성능 평가 지표"
   ]
  },
  {
   "cell_type": "markdown",
   "id": "a4889ece",
   "metadata": {},
   "source": [
    "### 정확도(Accuracy)\n",
    "\n",
    "* 정확도는 전체 예측 데이터 건수 중 예측 결과가 동일한 데이터 건수로 계산\n",
    "* scikit-learn에서는 `accuracy_score` 함수를 제공\n",
    "\n"
   ]
  },
  {
   "cell_type": "code",
   "execution_count": 32,
   "id": "bfd9d008",
   "metadata": {
    "ExecuteTime": {
     "end_time": "2022-02-05T03:33:22.217013Z",
     "start_time": "2022-02-05T03:33:22.195101Z"
    }
   },
   "outputs": [
    {
     "name": "stdout",
     "output_type": "stream",
     "text": [
      "훈련 데이터 점수: 0.9528571428571428\n",
      "평가 데이터 점수: 0.9633333333333334\n",
      "정확도: 0.9633333333333334\n"
     ]
    }
   ],
   "source": [
    "from sklearn.datasets import make_classification\n",
    "from sklearn.linear_model import LogisticRegression\n",
    "from sklearn.metrics import accuracy_score\n",
    "\n",
    "X,y = make_classification(n_samples=1000, n_features=2, n_informative=2, n_redundant=0, n_clusters_per_class=1)\n",
    "\n",
    "X_train, X_test, y_train,y_test = train_test_split(X, y, test_size= 0.3)\n",
    "\n",
    "model = LogisticRegression()\n",
    "model.fit(X_train,y_train)\n",
    "\n",
    "print('훈련 데이터 점수: {}'.format(model.score(X_train,y_train)))\n",
    "print('평가 데이터 점수: {}'.format(model.score(X_test,y_test)))\n",
    "\n",
    "predict = model.predict(X_test)\n",
    "print(\"정확도: {}\".format(accuracy_score(y_test,predict)))"
   ]
  },
  {
   "cell_type": "markdown",
   "id": "d823961c",
   "metadata": {},
   "source": [
    "### 오차 행렬(Confusion Matrix)\n",
    "\n",
    "* True Negative: 예측값을 Negative 값 0으로 예측했고, 실제 값도 Negative 값 0\n",
    "* False Positive: 예측값을 Positive 값 1로 예측했는데, 실제 값은 Negative 값 0\n",
    "* False Negative: 예측값을 Negative 값 0으로 예측했는데, 실제 값은 Positive 값 1\n",
    "* True Positive: 예측값을 Positive 값 1로 예측했고, 실제 값도 Positive 값 1"
   ]
  },
  {
   "cell_type": "code",
   "execution_count": 33,
   "id": "f1c69357",
   "metadata": {
    "ExecuteTime": {
     "end_time": "2022-02-05T03:38:48.407868Z",
     "start_time": "2022-02-05T03:38:48.386893Z"
    }
   },
   "outputs": [
    {
     "name": "stdout",
     "output_type": "stream",
     "text": [
      "[[140   1]\n",
      " [ 10 149]]\n"
     ]
    }
   ],
   "source": [
    "from sklearn.metrics import confusion_matrix\n",
    "\n",
    "confmat = confusion_matrix(y_true=y_test, y_pred=predict)\n",
    "print(confmat)"
   ]
  },
  {
   "cell_type": "code",
   "execution_count": 35,
   "id": "4b33c8dd",
   "metadata": {
    "ExecuteTime": {
     "end_time": "2022-02-05T03:40:46.805876Z",
     "start_time": "2022-02-05T03:40:46.693180Z"
    }
   },
   "outputs": [
    {
     "data": {
      "image/png": "[encoded data removed]",
      "text/plain": [
       "<Figure size 180x180 with 1 Axes>"
      ]
     },
     "metadata": {},
     "output_type": "display_data"
    }
   ],
   "source": [
    "fig, ax = plt.subplots(figsize=(2.5,2.5))\n",
    "ax.matshow(confmat, cmap=plt.cm.Blues, alpha=0.3)\n",
    "for i in range(confmat.shape[0]):\n",
    "    for j in range(confmat.shape[1]):\n",
    "        ax.text(x=j, y=i, s=confmat[i,j], va='center', ha = 'center')\n",
    "        \n",
    "plt.xlabel('Predicted label')\n",
    "plt.ylabel('True label')\n",
    "plt.tight_layout\n",
    "plt.show()"
   ]
  },
  {
   "cell_type": "markdown",
   "id": "67d8b550",
   "metadata": {},
   "source": [
    "### 정밀도(Precision)와 재현율(Recall)\n",
    "\n",
    "* 정밀도 = TP / (FP + TP)\n",
    "* 재현율 = TP / (FN + TP)\n",
    "\n",
    "* 정확도 = (TN + TP) / (TN + FP + FN + TP)\n",
    "* 오류율 = (FN + FP) / (TN + FP + FN + TP)"
   ]
  },
  {
   "cell_type": "code",
   "execution_count": 37,
   "id": "cb9c3f36",
   "metadata": {
    "ExecuteTime": {
     "end_time": "2022-02-05T03:44:00.276240Z",
     "start_time": "2022-02-05T03:44:00.266271Z"
    }
   },
   "outputs": [
    {
     "name": "stdout",
     "output_type": "stream",
     "text": [
      "정밀도: 0.9933333333333333\n",
      "재현율: 0.9371069182389937\n"
     ]
    }
   ],
   "source": [
    "from sklearn.metrics import precision_score, recall_score\n",
    "\n",
    "precision = precision_score(y_test,predict)\n",
    "recall = recall_score(y_test,predict)\n",
    "\n",
    "print('정밀도: {}'.format(precision))\n",
    "print('재현율: {}'.format(recall))"
   ]
  },
  {
   "cell_type": "markdown",
   "id": "0bade4a0",
   "metadata": {},
   "source": [
    "### F1 Score(F-measure)\n",
    "\n",
    "* 정밀도와 재현율을 결합한 지표\n",
    "* 정밀도와 재현율이 어느 한쪽으로 치우치지 않을 때 높은 값을 가짐\n",
    "\n",
    "\\begin{equation}\n",
    "F1 = 2 \\times \\frac{precision \\times recall}{precision + recall}\n",
    "\\end{equation}\n"
   ]
  },
  {
   "cell_type": "code",
   "execution_count": 38,
   "id": "bb634b5f",
   "metadata": {
    "ExecuteTime": {
     "end_time": "2022-02-05T03:45:58.404433Z",
     "start_time": "2022-02-05T03:45:58.396455Z"
    }
   },
   "outputs": [
    {
     "name": "stdout",
     "output_type": "stream",
     "text": [
      "F1 Score: 0.9644012944983819\n"
     ]
    }
   ],
   "source": [
    "from sklearn.metrics import f1_score\n",
    "\n",
    "f1 = f1_score(y_test,predict)\n",
    "\n",
    "print('F1 Score: {}'.format(f1))"
   ]
  },
  {
   "cell_type": "markdown",
   "id": "dd3b590d",
   "metadata": {},
   "source": [
    "### ROC 곡선과 AUC\n",
    "\n",
    "* ROC 곡선은 FPR(False Positive Rate)이 변할 때 TPR(True Positive Rate)이 어떻게 변하는지 나타내는 곡선\n",
    "  + TPR(True Positive Rate): TP / (FN + TP), 재현율\n",
    "  + TNR(True Negative Rate): TN / (FP + TN)\n",
    "  + FPR(False Positive Rate): FP / (FP + TN), 1 - TNR\n",
    "\n",
    "* AUC(Area Under Curve) 값은 ROC 곡선 밑에 면적을 구한 값 (1이 가까울수록 좋은 값)"
   ]
  },
  {
   "cell_type": "code",
   "execution_count": 40,
   "id": "74730f48",
   "metadata": {
    "ExecuteTime": {
     "end_time": "2022-02-05T03:50:31.173544Z",
     "start_time": "2022-02-05T03:50:31.013962Z"
    }
   },
   "outputs": [
    {
     "data": {
      "text/plain": [
       "<matplotlib.legend.Legend at 0x194d3f2e700>"
      ]
     },
     "execution_count": 40,
     "metadata": {},
     "output_type": "execute_result"
    },
    {
     "data": {
      "image/png": "[encoded data removed]",
      "text/plain": [
       "<Figure size 432x288 with 1 Axes>"
      ]
     },
     "metadata": {},
     "output_type": "display_data"
    }
   ],
   "source": [
    "from sklearn.metrics import roc_curve\n",
    "\n",
    "pred_proba_class1 = model.predict_proba(X_test)[:,1]\n",
    "fprs, tprs, thresholds = roc_curve(y_test,pred_proba_class1)\n",
    "\n",
    "plt.plot(fprs, tprs, label='ROC')\n",
    "plt.plot([0,1],[0,1],'--k',label='Random')\n",
    "start, end = plt.xlim()\n",
    "plt.xticks(np.round(np.arange(start,end,0.1),2))\n",
    "plt.xlim(0,1)\n",
    "plt.ylim(0,1)\n",
    "plt.xlabel('FPR(1-Sensitivity)')\n",
    "plt.ylabel('TPR(Recall)')\n",
    "plt.legend()"
   ]
  },
  {
   "cell_type": "code",
   "execution_count": 41,
   "id": "389517ae",
   "metadata": {
    "ExecuteTime": {
     "end_time": "2022-02-05T03:52:02.258262Z",
     "start_time": "2022-02-05T03:52:02.246293Z"
    }
   },
   "outputs": [
    {
     "name": "stdout",
     "output_type": "stream",
     "text": [
      "ROC AUC Score: 0.9650073598287168\n"
     ]
    }
   ],
   "source": [
    "from sklearn.metrics import roc_auc_score\n",
    "\n",
    "roc_auc = roc_auc_score(y_test, predict)\n",
    "\n",
    "print(\"ROC AUC Score: {}\".format(roc_auc))"
   ]
  }
 ],
 "metadata": {
  "hide_input": false,
  "kernelspec": {
   "display_name": "Python 3 (ipykernel)",
   "language": "python",
   "name": "python3"
  },
  "language_info": {
   "codemirror_mode": {
    "name": "ipython",
    "version": 3
   },
   "file_extension": ".py",
   "mimetype": "text/x-python",
   "name": "python",
   "nbconvert_exporter": "python",
   "pygments_lexer": "ipython3",
   "version": "3.9.10"
  },
  "toc": {
   "base_numbering": 1,
   "nav_menu": {},
   "number_sections": true,
   "sideBar": true,
   "skip_h1_title": false,
   "title_cell": "Table of Contents",
   "title_sidebar": "Contents",
   "toc_cell": false,
   "toc_position": {
    "height": "1117px",
    "left": "225px",
    "top": "90px",
    "width": "319px"
   },
   "toc_section_display": true,
   "toc_window_display": true
  },
  "varInspector": {
   "cols": {
    "lenName": 16,
    "lenType": 16,
    "lenVar": 40
   },
   "kernels_config": {
    "python": {
     "delete_cmd_postfix": "",
     "delete_cmd_prefix": "del ",
     "library": "var_list.py",
     "varRefreshCmd": "print(var_dic_list())"
    },
    "r": {
     "delete_cmd_postfix": ") ",
     "delete_cmd_prefix": "rm(",
     "library": "var_list.r",
     "varRefreshCmd": "cat(var_dic_list()) "
    }
   },
   "types_to_exclude": [
    "module",
    "function",
    "builtin_function_or_method",
    "instance",
    "_Feature"
   ],
   "window_display": false
  }
 },
 "nbformat": 4,
 "nbformat_minor": 5
}
